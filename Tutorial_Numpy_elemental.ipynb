{
  "nbformat": 4,
  "nbformat_minor": 0,
  "metadata": {
    "colab": {
      "provenance": [],
      "authorship_tag": "ABX9TyPFbLZooBbVlHuJ4Cpj/c4e",
      "include_colab_link": true
    },
    "kernelspec": {
      "name": "python3",
      "display_name": "Python 3"
    },
    "language_info": {
      "name": "python"
    }
  },
  "cells": [
    {
      "cell_type": "markdown",
      "metadata": {
        "id": "view-in-github",
        "colab_type": "text"
      },
      "source": [
        "<a href=\"https://colab.research.google.com/github/EderLara/CuadernosPythonParaML/blob/main/Tutorial_Numpy_elemental.ipynb\" target=\"_parent\"><img src=\"https://colab.research.google.com/assets/colab-badge.svg\" alt=\"Open In Colab\"/></a>"
      ]
    },
    {
      "cell_type": "markdown",
      "source": [
        "# Introducción a NumPy\n",
        "## Conceptos Básicos:\n",
        "\n",
        "  * Instalación:\n",
        "\n",
        "\n",
        "```\n",
        "pip install numpy\n",
        "```\n",
        "  * Importación\n",
        "\n",
        "```\n",
        "import numpy as np\n",
        "```\n",
        "\n",
        "\n"
      ],
      "metadata": {
        "id": "FRzpmymuP_6J"
      }
    },
    {
      "cell_type": "markdown",
      "source": [
        "# Métodos comunes en Numpy:\n",
        "  \n",
        "  * shape: Uno de los atributos más importantes. Te dice la estructura del arreglo (filas, columnas, etc.).\n",
        "  * reshape(): Cambia la forma de cómo ves los datos, pero no los datos en sí. Es muy útil para reorganizar.\n",
        "  * flatten()/ravel(): Aplanar es convertir un arreglo multidimensional en uno de una sola dimensión.\n",
        "  * transpose()/.T: Útil para cambiar la orientación de los datos, como convertir filas en columnas.\n",
        "  * max()/min()/argmax()/argmin(): Para encontrar valores extremos y sus ubicaciones.\n",
        "  * sum()/mean()/std(): Para calcular estadísticas. (suma, media, y desviación standard)\n",
        "  * sort(): Ordena los elementos, lo cual es fundamental para muchos algoritmos.\n",
        "  * clip(): Útil para limitar los rangos de valores, por ejemplo, en procesamiento de imágenes.\n",
        "  * axis: El parámetro axis en métodos como sum(), max(), etc., es crucial para especificar si la operación se realiza a lo largo de las filas  * (axis=1) o las columnas (axis=0).\n",
        "  * copy(): Si asignas un arreglo a otra variable, estás creando una referencia, no una copia. copy() crea una copia independiente.\n",
        "  * fill(): Para inicializar arreglos con un valor específico.\n",
        "  * nonzero(): Obtiene los índices de los elementos que no son cero, útil en álgebra lineal y procesamiento de señales.\n",
        "  * where(): Una forma poderosa de encontrar elementos que cumplen una condición y obtener sus índices o los valores mismos.\n",
        "  * astype(): Es importante poder cambiar el tipo de datos de un arreglo (por ejemplo, de enteros a flotantes).\n",
        "  * prod()/cumprod()/cumsum(): Útiles para cálculos matemáticos y financieros.\n",
        "  * all()/any(): Para verificar condiciones lógicas en arreglos."
      ],
      "metadata": {
        "id": "ZMvmsdXubBsD"
      }
    },
    {
      "cell_type": "code",
      "execution_count": null,
      "metadata": {
        "id": "d3lW3BfWOgWz"
      },
      "outputs": [],
      "source": [
        "import numpy as np"
      ]
    },
    {
      "cell_type": "code",
      "source": [
        "# Creando un arreglo NumPy de ejemplo\n",
        "arr = np.array([[1, 2, 3], [4, 5, 6], [7, 8, 9]])\n",
        "\n",
        "print(\"Arreglo Original:\\n\", arr)\n",
        "\n",
        "# ----------------- Métodos de Forma y Estructura -----------------\n",
        "\n",
        "# .shape: Devuelve una tupla con las dimensiones del arreglo\n",
        "print(\"\\nForma (shape):\", arr.shape)  # Salida: (3, 3)\n",
        "\n",
        "# .reshape(): Cambia la forma del arreglo sin cambiar los datos\n",
        "reshaped_arr = arr.reshape(9, 1)\n",
        "print(\"\\nArreglo redimensionado:\\n\", reshaped_arr)\n",
        "\n",
        "# .flatten() o .ravel(): Aplana el arreglo a una dimensión\n",
        "flattened_arr = arr.flatten()  # o arr.ravel()\n",
        "print(\"\\nArreglo aplanado:\", flattened_arr)\n",
        "\n",
        "# .transpose() o .T:  Transpone el arreglo (intercambia filas y columnas)\n",
        "transposed_arr = arr.transpose()  # o arr.T\n",
        "print(\"\\nArreglo transpuesto:\\n\", transposed_arr)\n",
        "\n",
        "# .resize(): Cambia el tamaño del arreglo in-place\n",
        "arr.resize(2, 3)  # Cambia arr a un arreglo de 2x3\n",
        "print(\"\\nArreglo redimensionado in-place:\\n\", arr)\n",
        "\n",
        "# ----------------- Métodos para Manipulación de Elementos -----------------\n",
        "\n",
        "# .max(): Devuelve el valor máximo del arreglo\n",
        "print(\"\\nValor máximo:\", arr.max())\n",
        "\n",
        "# .min(): Devuelve el valor mínimo del arreglo\n",
        "print(\"\\nValor mínimo:\", arr.min())\n",
        "\n",
        "# .argmax(): Devuelve el índice del valor máximo\n",
        "print(\"\\nÍndice del valor máximo:\", arr.argmax())\n",
        "\n",
        "# .argmin(): Devuelve el índice del valor mínimo\n",
        "print(\"\\nÍndice del valor mínimo:\", arr.argmin())\n",
        "\n",
        "# .sum(): Devuelve la suma de todos los elementos\n",
        "print(\"\\nSuma de todos los elementos:\", arr.sum())\n",
        "\n",
        "# .mean(): Devuelve el promedio de todos los elementos\n",
        "print(\"\\nPromedio de los elementos:\", arr.mean())\n",
        "\n",
        "# .std(): Devuelve la desviación estándar\n",
        "print(\"\\nDesviación estándar:\", arr.std())\n",
        "\n",
        "# .sort(): Ordena el arreglo in-place\n",
        "arr.sort()\n",
        "print(\"\\nArreglo ordenado:\\n\", arr)\n",
        "\n",
        "# .clip(): Limita los valores dentro de un rango\n",
        "clipped_arr = np.array([1, 5, 2, 8, 3])\n",
        "clipped_arr = clipped_arr.clip(2, 5)  # Valores menores a 2 se convierten a 2, mayores a 5 a 5\n",
        "print(\"\\nArreglo con clip:\", clipped_arr)\n",
        "\n",
        "# ----------------- Métodos para Operaciones con Ejes -----------------\n",
        "\n",
        "# Muchos de los métodos anteriores pueden operar a lo largo de un eje específico\n",
        "\n",
        "# .sum(axis=0): Suma a lo largo de las columnas\n",
        "print(\"\\nSuma por columnas:\", arr.sum(axis=0))\n",
        "\n",
        "# .max(axis=1):  Máximo a lo largo de las filas\n",
        "print(\"\\nMáximo por filas:\", arr.max(axis=1))\n",
        "\n",
        "# ----------------- Métodos para Copiar y Llenar -----------------\n",
        "\n",
        "# .copy():  Crea una copia independiente del arreglo\n",
        "copied_arr = arr.copy()\n",
        "print(\"\\nCopia del arreglo:\\n\", copied_arr)\n",
        "\n",
        "# .fill():  Llena el arreglo con un valor escalar\n",
        "copied_arr.fill(0)\n",
        "print(\"\\nArreglo lleno de ceros:\\n\", copied_arr)\n",
        "\n",
        "# ----------------- Métodos para Búsqueda y Condición -----------------\n",
        "\n",
        "# .nonzero(): Devuelve los índices de los elementos no nulos\n",
        "non_zero_indices = np.array([0, 2, 0, 5, 0]).nonzero()\n",
        "print(\"\\nIndices de elementos no nulos:\", non_zero_indices)\n",
        "\n",
        "# .where(): Devuelve los elementos que cumplen una condición\n",
        "arr_where = np.array([10, 20, 30, 40, 50])\n",
        "indices_greater_than_25 = np.where(arr_where > 25)\n",
        "print(\"\\nIndices mayores que 25:\", indices_greater_than_25)\n",
        "values_greater_than_25 = arr_where[arr_where > 25]\n",
        "print(\"\\nValores mayores que 25:\", values_greater_than_25)\n",
        "\n",
        "# ----------------- Métodos para Tipos de Datos -----------------\n",
        "\n",
        "# .astype():  Cambia el tipo de datos del arreglo\n",
        "float_arr = arr.astype(float)\n",
        "print(\"\\nArreglo a float:\\n\", float_arr)\n",
        "\n",
        "\n",
        "# ----------------- Métodos para Agregación -----------------\n",
        "# .prod(): Devuelve el producto de los elementos\n",
        "prod_arr = np.array([1, 2, 3, 4])\n",
        "print(\"\\nProducto de elementos:\", prod_arr.prod()) # Output: 24\n",
        "\n",
        "# .cumprod():  Devuelve el producto acumulativo de los elementos\n",
        "print(\"\\nProducto acumulativo:\", prod_arr.cumprod()) # Output: [ 1  2  6 24]\n",
        "\n",
        "# .cumsum(): Devuelve la suma acumulativa de los elementos\n",
        "print(\"\\nSuma acumulativa:\", prod_arr.cumsum())  # Output: [ 1  3  6 10]\n",
        "\n",
        "# .all():  Verifica si todos los elementos cumplen una condición (True si todos son True)\n",
        "bool_arr = np.array([True, True, False, True])\n",
        "print(\"\\nTodos son True:\", bool_arr.all())  # Output: False\n",
        "\n",
        "# .any():  Verifica si al menos un elemento cumple una condición (True si al menos uno es True)\n",
        "print(\"\\nAl menos uno es True:\", bool_arr.any()) # Output: True"
      ],
      "metadata": {
        "id": "HKKy--wTZpIM"
      },
      "execution_count": null,
      "outputs": []
    },
    {
      "cell_type": "markdown",
      "source": [
        "### **Creación de Arrays:**"
      ],
      "metadata": {
        "id": "xnyjysSkZETM"
      }
    },
    {
      "cell_type": "code",
      "source": [
        "# Array unidimensional\n",
        "arr = np.array([1, 2, 3, 4, 5])\n",
        "\n",
        "# Array bidimensional\n",
        "arr2d = np.array([[1, 2, 3], [4, 5, 6]])\n"
      ],
      "metadata": {
        "id": "AO7_JUSnZCK6"
      },
      "execution_count": null,
      "outputs": []
    },
    {
      "cell_type": "markdown",
      "source": [
        "* Ejemplo: Crear un array de números del 1 al 10 y calcular su suma."
      ],
      "metadata": {
        "id": "-derhmdcZKLX"
      }
    },
    {
      "cell_type": "code",
      "source": [
        "arr = np.arange(1, 11)\n",
        "suma = np.sum(arr)\n",
        "print(suma)\n"
      ],
      "metadata": {
        "id": "AQYduJvkZOW3"
      },
      "execution_count": null,
      "outputs": []
    },
    {
      "cell_type": "markdown",
      "source": [
        "## Manipulación de Arrays\n",
        "  * Indexación y Slicing"
      ],
      "metadata": {
        "id": "lCz-LXcjZVAI"
      }
    },
    {
      "cell_type": "code",
      "source": [
        "arr = np.array([1, 2, 3, 4, 5])\n",
        "print(arr[1:4])  # Output: [2, 3, 4]\n"
      ],
      "metadata": {
        "id": "_xCiy-bedVR0"
      },
      "execution_count": null,
      "outputs": []
    },
    {
      "cell_type": "markdown",
      "source": [
        "  * Operaciones Aritméticas"
      ],
      "metadata": {
        "id": "6I4YqyjgdabR"
      }
    },
    {
      "cell_type": "code",
      "source": [
        "arr = np.array([1, 2, 3, 4, 5])\n",
        "arr_squared = arr ** 2\n",
        "print(arr_squared)  # Output: [1, 4, 9, 16, 25]\n"
      ],
      "metadata": {
        "id": "EUH-OnfHdeg5"
      },
      "execution_count": null,
      "outputs": []
    },
    {
      "cell_type": "markdown",
      "source": [
        "  * Matrix de 3 X 3"
      ],
      "metadata": {
        "id": "TusWZ-d2dh3A"
      }
    },
    {
      "cell_type": "code",
      "source": [
        "matriz = np.array([[1, 2, 3], [4, 5, 6], [7, 8, 9]])\n",
        "transpuesta = np.transpose(matriz)                  # obtenemos su transpuesta\n",
        "print(transpuesta)\n"
      ],
      "metadata": {
        "id": "zq-Y5-PfdoNb"
      },
      "execution_count": null,
      "outputs": []
    },
    {
      "cell_type": "markdown",
      "source": [
        "## **Funciones avanzadas**\n",
        "\n",
        "  * Broadcasting en NumPy es una técnica que permite realizar operaciones aritméticas en arrays de diferentes formas. En lugar de crear copias innecesarias de datos, NumPy ajusta automáticamente las dimensiones de los arrays para que sean compatibles.\n",
        "\n",
        "### **Conceptos Clave de Broadcasting**\n",
        "#### **Reglas de Broadcasting:**\n",
        "\n",
        "  * **Regla 1:** Si los arrays tienen diferentes dimensiones, NumPy añade unos a la izquierda de la forma del array con menos dimensiones.\n",
        "  * **Regla 2:** Si las dimensiones de los arrays no coinciden en alguna dimensión, el array con forma igual a uno en esa dimensión se estira (o se \"broadcast\") para coincidir con la forma del otro array.\n",
        "  * **Regla 3:** Si alguna dimensión de los arrays no es igual y ninguna es igual a uno, NumPy genera un error.\n",
        "\n",
        "#### **Broadcasting: **"
      ],
      "metadata": {
        "id": "ntrk9j8Ddws5"
      }
    },
    {
      "cell_type": "code",
      "source": [
        "arr = np.array([1, 2, 3])\n",
        "matriz = np.array([[1, 2, 3], [4, 5, 6]])\n",
        "resultado = arr + matriz\n",
        "print(resultado)\n"
      ],
      "metadata": {
        "id": "4wKmAnyIduRZ"
      },
      "execution_count": null,
      "outputs": []
    },
    {
      "cell_type": "code",
      "source": [
        "\"\"\"\n",
        "En este caso, el escalar b se \"broadcast\" para coincidir con la forma del array a.\n",
        "\"\"\"\n",
        "a = np.array([1, 2, 3])\n",
        "b = 2\n",
        "resultado = a * b\n",
        "print(resultado)  # Output: [2, 4, 6]\n"
      ],
      "metadata": {
        "id": "rH8mpihTe8L-"
      },
      "execution_count": null,
      "outputs": []
    },
    {
      "cell_type": "code",
      "source": [
        "\"\"\" Ejemplo con Arrays de Diferentes Dimensiones: \"\"\"\n",
        "a = np.array([[1, 2, 3], [4, 5, 6]])\n",
        "b = np.array([10, 20, 30])\n",
        "resultado = a + b\n",
        "print(resultado)              # Output: [[11, 22, 33], [14, 25, 36]]\n",
        "\n",
        "\"\"\" Aquí, el array b se \"broadcast\" a través de la segunda dimensión del array a. \"\"\""
      ],
      "metadata": {
        "id": "fk9AlOC6fK_D"
      },
      "execution_count": null,
      "outputs": []
    },
    {
      "cell_type": "markdown",
      "source": [
        "  * Álgebra Lineal:"
      ],
      "metadata": {
        "id": "mlstXlyrd7z1"
      }
    },
    {
      "cell_type": "code",
      "source": [
        "matriz = np.array([[1, 2], [3, 4]])\n",
        "inversa = np.linalg.inv(matriz)\n",
        "print(inversa)\n"
      ],
      "metadata": {
        "id": "RDNq4dxSd-Y7"
      },
      "execution_count": null,
      "outputs": []
    },
    {
      "cell_type": "code",
      "source": [
        "\"\"\" Resolver un sistema de ecuaciones lineales: \"\"\"\n",
        "\n",
        "A = np.array([[3, 1], [1, 2]])\n",
        "b = np.array([9, 8])\n",
        "x = np.linalg.solve(A, b)\n",
        "print(x)"
      ],
      "metadata": {
        "id": "O3KYoPJxeC6Q"
      },
      "execution_count": null,
      "outputs": []
    }
  ]
}